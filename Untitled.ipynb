{
 "cells": [
  {
   "cell_type": "code",
   "execution_count": 3,
   "id": "b8d20977",
   "metadata": {},
   "outputs": [],
   "source": [
    "import numpy as np\n",
    "import os\n",
    "from matplotlib import pyplot as plt\n",
    "import time #time b/w two positions\n",
    "import mediapipe as mp\n",
    "import cv2"
   ]
  },
  {
   "cell_type": "code",
   "execution_count": 4,
   "id": "b2643aee",
   "metadata": {},
   "outputs": [],
   "source": [
    "mp_holistic = mp.solutions.holistic\n",
    "mp_drawing = mp.solutions.drawing_utils"
   ]
  },
  {
   "cell_type": "code",
   "execution_count": 5,
   "id": "91d51312",
   "metadata": {},
   "outputs": [],
   "source": [
    "# applying keypoints using mp holistic to singular frame\n",
    "# apply that to multiple frames of our webcam feed\n",
    "def mediapipe_detection(image,model):\n",
    "    image = cv2.cvtColor(image,cv2.COLOR_BGR2RGB)\n",
    "    image.flags.writeable = False\n",
    "    results = model.process(image)\n",
    "    image.flags.writeable = True\n",
    "    image = cv2.cvtColor(image,cv2.COLOR_RGB2BGR)\n",
    "    return image, results"
   ]
  },
  {
   "cell_type": "code",
   "execution_count": 6,
   "id": "0d66e65c",
   "metadata": {},
   "outputs": [],
   "source": [
    "def draw_landmarks(image, results):\n",
    "    mp_drawing.draw_landmarks(image,results.face_landmarks,mp_holistic.FACEMESH_TESSELATION, \n",
    "                            mp_drawing.DrawingSpec(color=(200,90,100),thickness=1,circle_radius=1),\n",
    "                            mp_drawing.DrawingSpec(color=(20,190,200),thickness=1,circle_radius=1))\n",
    "    mp_drawing.draw_landmarks(image,results.pose_landmarks,mp_holistic.POSE_CONNECTIONS,\n",
    "                            mp_drawing.DrawingSpec(color=(256,100,0),thickness=4,circle_radius=4),#circles #allin bgr\n",
    "                            mp_drawing.DrawingSpec(color=(256,256,256),thickness=2,circle_radius=2))#lines\n",
    "    mp_drawing.draw_landmarks(image,results.right_hand_landmarks,mp_holistic.HAND_CONNECTIONS,\n",
    "                            mp_drawing.DrawingSpec(color=(200,100,100),thickness=2,circle_radius=1),\n",
    "                            mp_drawing.DrawingSpec(color=(20,190,200),thickness=2,circle_radius=1))\n",
    "    mp_drawing.draw_landmarks(image,results.left_hand_landmarks,mp_holistic.HAND_CONNECTIONS,\n",
    "                            mp_drawing.DrawingSpec(color=(200,100,100),thickness=2,circle_radius=1),\n",
    "                            mp_drawing.DrawingSpec(color=(20,190,200),thickness=2,circle_radius=1))"
   ]
  },
  {
   "cell_type": "code",
   "execution_count": null,
   "id": "52884b87",
   "metadata": {},
   "outputs": [],
   "source": [
    "def draw_landmarks(image, results):\n",
    "    mp_drawing.draw_landmarks(image,results.face_landmarks,mp_holistic.FACEMESH_TESSELATION, \n",
    "                            mp_drawing.DrawingSpec(color=(200,90,100),thickness=1,circle_radius=1),\n",
    "                            mp_drawing.DrawingSpec(color=(20,190,200),thickness=1,circle_radius=1))\n",
    "    mp_drawing.draw_landmarks(image,results.pose_landmarks,mp_holistic.POSE_CONNECTIONS,\n",
    "                            mp_drawing.DrawingSpec(color=(256,100,0),thickness=4,circle_radius=4),#circles #allin bgr\n",
    "                            mp_drawing.DrawingSpec(color=(256,256,256),thickness=2,circle_radius=2))#lines\n",
    "    mp_drawing.draw_landmarks(image,results.right_hand_landmarks,mp_holistic.HAND_CONNECTIONS,\n",
    "                            mp_drawing.DrawingSpec(color=(200,100,100),thickness=2,circle_radius=1),\n",
    "                            mp_drawing.DrawingSpec(color=(20,190,200),thickness=2,circle_radius=1))\n",
    "    mp_drawing.draw_landmarks(image,results.left_hand_landmarks,mp_holistic.HAND_CONNECTIONS,\n",
    "                            mp_drawing.DrawingSpec(color=(200,100,100),thickness=2,circle_radius=1),\n",
    "                            mp_drawing.DrawingSpec(color=(20,190,200),thickness=2,circle_radius=1))\n",
    "cap = cv2.VideoCapture(0)\n",
    "def funco1():    \n",
    "    with mp_holistic.Holistic(min_detection_confidence=0.5,min_tracking_confidence=0.5) as holistic:\n",
    "        while cap.isOpened():\n",
    "            ret, frame=cap.read()\n",
    "            image, results=mediapipe_detection(frame,holistic)\n",
    "            #print(results)\n",
    "            #draw_landmarks(image,results)qq\n",
    "            cv2.imshow('OpenCV Feed',image)\n",
    "            if cv2.waitKey(10)&0xFF==ord('r'):\n",
    "                funco2()\n",
    "            if cv2.waitKey(10)&0xFF==ord('q'):\n",
    "                break\n",
    "            \n",
    "        cap.release()\n",
    "        cv2.destroyAllWindows()\n",
    "\n",
    "def funco2():    \n",
    "    with mp_holistic.Holistic(min_detection_confidence=0.5,min_tracking_confidence=0.5) as holistic:\n",
    "        while cap.isOpened():\n",
    "            ret, frame=cap.read()\n",
    "            image, results=mediapipe_detection(frame,holistic)\n",
    "            print(results)\n",
    "            draw_landmarks(image,results)\n",
    "            cv2.imshow('OpenCV Feed',image)\n",
    "            if cv2.waitKey(10)&0xFF==ord('r'):\n",
    "                funco1()\n",
    "            if cv2.waitKey(10)&0xFF==ord('q'):\n",
    "                break\n",
    "            \n",
    "        cap.release()\n",
    "        cv2.destroyAllWindows()\n",
    "\n",
    "funco1()\n"
   ]
  },
  {
   "cell_type": "code",
   "execution_count": 8,
   "id": "7e758a15",
   "metadata": {},
   "outputs": [],
   "source": [
    "def extract_keypoints(results): \n",
    "    pose = np.array([[res.x,res.y,res.z,res.visibility] for res in results.pose_landmarks.landmark]).flatten() if results.pose_landmarks else np.zeros(132)\n",
    "    face = np.array([[res.x,res.y,res.z] for res in results.face_landmarks.landmark]).flatten() if results.face_landmarks else np.zeros(1404)\n",
    "    lh = np.array([[res.x,res.y,res.z] for res in results.left_hand_landmarks.landmark]).flatten() if results.left_hand_landmarks else np.zeros(63)\n",
    "    rh = np.array([[res.x,res.y,res.z] for res in results.right_hand_landmarks.landmark]).flatten() if results.right_hand_landmarks else np.zeros(63)\n",
    "    return np.concatenate([pose,face,lh,rh])"
   ]
  },
  {
   "cell_type": "code",
   "execution_count": 9,
   "id": "a8e62d4b",
   "metadata": {},
   "outputs": [],
   "source": [
    "#making folders for actions\n",
    "DATA_PATH = os.path.join('MP_Data')\n",
    "actions = np.array(['hello','thanks','iloveyou'])\n",
    "no_sequences = 30\n",
    "sequence_length = 30"
   ]
  },
  {
   "cell_type": "code",
   "execution_count": 10,
   "id": "3aa750a1",
   "metadata": {},
   "outputs": [],
   "source": [
    "for action in actions:\n",
    "    for sequence in range(no_sequences):\n",
    "        try:\n",
    "            os.makedirs(os.path.join(DATA_PATH,action,str(sequence)))\n",
    "        except:\n",
    "            pass\n"
   ]
  },
  {
   "cell_type": "code",
   "execution_count": null,
   "id": "c10ef81e",
   "metadata": {},
   "outputs": [],
   "source": [
    "cap = cv2.VideoCapture(0)\n",
    "with mp_holistic.Holistic(min_detection_confidence=0.5,min_tracking_confidence=0.5) as holistic:\n",
    "    for action in actions:\n",
    "        for sequence in range(no_sequences):\n",
    "            for frame_num in range(sequence_length):\n",
    "                \n",
    "                ret, frame=cap.read()\n",
    "                image, results=mediapipe_detection(frame,holistic)\n",
    "                print(results)\n",
    "                draw_landmarks(image,results)\n",
    "                \n",
    "                if frame_num == 0:\n",
    "                    cv2.putText(image,'Start  Collection',\n",
    "                        (120,200),cv2.FONT_HERSHEY_SIMPLEX,1,(0,255,0),1,cv2.LINE_AA)\n",
    "                    cv2.putText(image,\"Collecting Frame number {} Video number {}\".format(action, sequence),\n",
    "                        (15,12),cv2.FONT_HERSHEY_SIMPLEX,0.5,(0,255,0),1,cv2.LINE_AA)\n",
    "                    cv2.waitKey(2000) # waiting for 2000ms\n",
    "                else:\n",
    "                    cv2.putText(image,\"Collecting Frame number: {} Video number: {}\".format(action,sequence),\n",
    "                        (15,12),cv2.FONT_HERSHEY_SIMPLEX,0.5,(0,255,0),1,cv2.LINE_AA)\n",
    "                cv2.imshow('OpenCV Feed',image)\n",
    "\n",
    "                keypoints = extract_keypoints(results)\n",
    "                npy_path=os.path.join(DATA_PATH,action,str(sequence),str(frame_num))\n",
    "                np.save(npy_path,keypoints)\n",
    "\n",
    "                if cv2.waitKey(10)&0xFF==ord('q'):\n",
    "                    break\n",
    "    cap.release()\n",
    "    cv2.destroyAllWindows()"
   ]
  },
  {
   "cell_type": "code",
   "execution_count": 11,
   "id": "a48e7065",
   "metadata": {},
   "outputs": [],
   "source": [
    "from sklearn.model_selection import train_test_split\n",
    "from tensorflow.keras.utils import to_categorical"
   ]
  },
  {
   "cell_type": "code",
   "execution_count": 12,
   "id": "8006f794",
   "metadata": {},
   "outputs": [],
   "source": [
    "label_map={label:num for num,label in enumerate(actions)}"
   ]
  },
  {
   "cell_type": "code",
   "execution_count": 13,
   "id": "25533838",
   "metadata": {},
   "outputs": [],
   "source": [
    "sequences, labels=[],[]\n",
    "for action in actions:\n",
    "    for sequence in range(no_sequences):\n",
    "        window = []\n",
    "        for frame_num in range(sequence_length):\n",
    "            res = np.load(os.path.join(DATA_PATH,action,str(sequence),\"{}.npy\".format(frame_num)))\n",
    "            window.append(res)\n",
    "        sequences.append(window)\n",
    "        labels.append(label_map[action])\n"
   ]
  },
  {
   "cell_type": "code",
   "execution_count": 14,
   "id": "ae17f7ef",
   "metadata": {},
   "outputs": [],
   "source": [
    "X = np.array(sequences)\n",
    "Y = to_categorical(labels).astype(int)"
   ]
  },
  {
   "cell_type": "code",
   "execution_count": 15,
   "id": "01f658fd",
   "metadata": {},
   "outputs": [],
   "source": [
    "X_train, X_test, Y_train, Y_test = train_test_split(X,Y,test_size=0.05)"
   ]
  },
  {
   "cell_type": "code",
   "execution_count": 16,
   "id": "8f3301c8",
   "metadata": {},
   "outputs": [],
   "source": [
    "from tensorflow.keras.models import Sequential\n",
    "from tensorflow.keras.layers import LSTM,Dense\n",
    "from tensorflow.keras.callbacks import TensorBoard"
   ]
  },
  {
   "cell_type": "code",
   "execution_count": 17,
   "id": "ccb75a92",
   "metadata": {},
   "outputs": [],
   "source": [
    "log_dir = os.path.join('Logs')\n",
    "tb_callback = TensorBoard(log_dir = log_dir)\n",
    "\n",
    "model = Sequential() #instantiating the model\n",
    "#adding layers\n",
    "model.add(LSTM(64,return_sequences=True,activation='relu',input_shape=(30,1662)))\n",
    "model.add(LSTM(128,return_sequences=True,activation='relu'))\n",
    "model.add(LSTM(64,return_sequences=False,activation='relu'))\n",
    "model.add(Dense(64,activation='relu'))\n",
    "model.add(Dense(32,activation='softmax'))\n",
    "model.add(Dense(actions.shape[0],activation='softmax'))"
   ]
  },
  {
   "cell_type": "code",
   "execution_count": 18,
   "id": "0e27543b",
   "metadata": {},
   "outputs": [],
   "source": [
    "model.compile(optimizer='Adam',loss='categorical_crossentropy',metrics=['categorical_accuracy'])"
   ]
  },
  {
   "cell_type": "code",
   "execution_count": null,
   "id": "46280d37",
   "metadata": {},
   "outputs": [],
   "source": [
    "model.fit(X_train,Y_train,epochs=2000,callbacks=[tb_callback])"
   ]
  },
  {
   "cell_type": "code",
   "execution_count": 19,
   "id": "43d83642",
   "metadata": {},
   "outputs": [],
   "source": [
    "res = model.predict(X_test)"
   ]
  },
  {
   "cell_type": "code",
   "execution_count": 24,
   "id": "c8604a86",
   "metadata": {},
   "outputs": [
    {
     "data": {
      "text/plain": [
       "'hello'"
      ]
     },
     "execution_count": 24,
     "metadata": {},
     "output_type": "execute_result"
    }
   ],
   "source": [
    "actions[np.argmax(res[0])]\n"
   ]
  },
  {
   "cell_type": "code",
   "execution_count": 25,
   "id": "4409d0e7",
   "metadata": {},
   "outputs": [
    {
     "data": {
      "text/plain": [
       "'iloveyou'"
      ]
     },
     "execution_count": 25,
     "metadata": {},
     "output_type": "execute_result"
    }
   ],
   "source": [
    "actions[np.argmax(Y_test[0])]"
   ]
  },
  {
   "cell_type": "code",
   "execution_count": null,
   "id": "da172933",
   "metadata": {},
   "outputs": [],
   "source": [
    "to be deleted"
   ]
  },
  {
   "cell_type": "code",
   "execution_count": 22,
   "id": "fb1d821f",
   "metadata": {},
   "outputs": [
    {
     "name": "stdout",
     "output_type": "stream",
     "text": [
      "Model: \"sequential\"\n",
      "_________________________________________________________________\n",
      " Layer (type)                Output Shape              Param #   \n",
      "=================================================================\n",
      " lstm (LSTM)                 (None, 30, 64)            442112    \n",
      "                                                                 \n",
      " lstm_1 (LSTM)               (None, 30, 128)           98816     \n",
      "                                                                 \n",
      " lstm_2 (LSTM)               (None, 64)                49408     \n",
      "                                                                 \n",
      " dense (Dense)               (None, 64)                4160      \n",
      "                                                                 \n",
      " dense_1 (Dense)             (None, 32)                2080      \n",
      "                                                                 \n",
      " dense_2 (Dense)             (None, 3)                 99        \n",
      "                                                                 \n",
      "=================================================================\n",
      "Total params: 596,675\n",
      "Trainable params: 596,675\n",
      "Non-trainable params: 0\n",
      "_________________________________________________________________\n"
     ]
    }
   ],
   "source": [
    "model.summary()"
   ]
  },
  {
   "cell_type": "code",
   "execution_count": null,
   "id": "e1d98b6b",
   "metadata": {},
   "outputs": [],
   "source": [
    "model.save('action.h5')"
   ]
  },
  {
   "cell_type": "code",
   "execution_count": null,
   "id": "1c06a21b",
   "metadata": {},
   "outputs": [],
   "source": [
    "del model"
   ]
  },
  {
   "cell_type": "code",
   "execution_count": 23,
   "id": "cc1cb206",
   "metadata": {},
   "outputs": [],
   "source": [
    "model.load_weights('action.h5')"
   ]
  },
  {
   "cell_type": "code",
   "execution_count": 26,
   "id": "129bee27",
   "metadata": {},
   "outputs": [],
   "source": [
    "from sklearn.metrics import multilabel_confusion_matrix, accuracy_score"
   ]
  },
  {
   "cell_type": "code",
   "execution_count": 32,
   "id": "f0202ab1",
   "metadata": {},
   "outputs": [],
   "source": [
    "yhat = model.predict(X_test)\n"
   ]
  },
  {
   "cell_type": "code",
   "execution_count": 33,
   "id": "3abe5bde",
   "metadata": {},
   "outputs": [],
   "source": [
    "ytue = np.argmax(Y_test,axis=1).tolist()\n",
    "yhat = np.argmax(yhat,axis=1).tolist()"
   ]
  },
  {
   "cell_type": "code",
   "execution_count": 34,
   "id": "72ef9c47",
   "metadata": {},
   "outputs": [
    {
     "data": {
      "text/plain": [
       "array([[[2, 0],\n",
       "        [0, 3]],\n",
       "\n",
       "       [[3, 0],\n",
       "        [0, 2]]], dtype=int64)"
      ]
     },
     "execution_count": 34,
     "metadata": {},
     "output_type": "execute_result"
    }
   ],
   "source": [
    "multilabel_confusion_matrix(ytue,yhat)\n"
   ]
  },
  {
   "cell_type": "code",
   "execution_count": 35,
   "id": "c083781f",
   "metadata": {},
   "outputs": [
    {
     "data": {
      "text/plain": [
       "1.0"
      ]
     },
     "execution_count": 35,
     "metadata": {},
     "output_type": "execute_result"
    }
   ],
   "source": [
    "accuracy_score(ytue,yhat)"
   ]
  },
  {
   "cell_type": "markdown",
   "id": "2e5fc919",
   "metadata": {},
   "source": [
    "RENDERING"
   ]
  },
  {
   "cell_type": "code",
   "execution_count": null,
   "id": "57839aa4",
   "metadata": {},
   "outputs": [],
   "source": [
    "sequence = []\n",
    "sentence = []\n",
    "threshold =0.2\n",
    "cap = cv2.VideoCapture(0)\n",
    "with mp_holistic.Holistic(min_detection_confidence=0.5,min_tracking_confidence=0.5) as holistic:\n",
    "        while cap.isOpened():\n",
    "            ret, frame=cap.read()\n",
    "            image, results=mediapipe_detection(frame,holistic)\n",
    "            #print(results)\n",
    "            draw_landmarks(image,results)\n",
    "            keypoints = extract_keypoints(results)\n",
    "            sequence.append(keypoints)\n",
    "            sequence = sequence[-30:]\n",
    "            if(len(sequence) == 30):\n",
    "                res = model.predict(np.expand_dims(sequence,axis=0))[0]\n",
    "                print(actions[np.argmax(res)])\n",
    "            cv2.imshow('OpenCV Feed',image)\n",
    "            \n",
    "            if cv2.waitKey(10)&0xFF==ord('q'):\n",
    "                break\n",
    "            \n",
    "        cap.release()\n",
    "        cv2.destroyAllWindows()"
   ]
  },
  {
   "cell_type": "code",
   "execution_count": null,
   "id": "32770775",
   "metadata": {},
   "outputs": [],
   "source": [
    "cap.release()\n",
    "cv2.destroyAllWindows()"
   ]
  }
 ],
 "metadata": {
  "kernelspec": {
   "display_name": "Python 3 (ipykernel)",
   "language": "python",
   "name": "python3"
  },
  "language_info": {
   "codemirror_mode": {
    "name": "ipython",
    "version": 3
   },
   "file_extension": ".py",
   "mimetype": "text/x-python",
   "name": "python",
   "nbconvert_exporter": "python",
   "pygments_lexer": "ipython3",
   "version": "3.10.2"
  }
 },
 "nbformat": 4,
 "nbformat_minor": 5
}
